{
 "cells": [
  {
   "cell_type": "markdown",
   "id": "35ff5cdf",
   "metadata": {},
   "source": [
    "## ETAPA 1"
   ]
  },
  {
   "cell_type": "markdown",
   "id": "c54546ed",
   "metadata": {},
   "source": [
    "#### Cargar datos ☑︎\n",
    "#### Cargar modelos ☒\n",
    "#### Entrenar modelos ☒\n",
    "#### Ver resultados ☒"
   ]
  },
  {
   "cell_type": "code",
   "execution_count": 2,
   "id": "4bff2ad7",
   "metadata": {},
   "outputs": [],
   "source": [
    "import glob\n",
    "import shutil\n",
    "import os\n",
    "import re\n",
    "import random"
   ]
  },
  {
   "cell_type": "code",
   "execution_count": 122,
   "id": "f1d72614",
   "metadata": {},
   "outputs": [],
   "source": [
    "# BLOQUE 1: Separar data-set en carpetas\n",
    "\n",
    "#file = open(\"Data-set/PA-expert-annotations.txt\", \"r\")\n",
    "#os.mkdir(\"Data-set/datos\")\n",
    "#os.mkdir(\"Data-set/datos/01-Normal\")\n",
    "#os.mkdir(\"Data-set/datos/02-Tapered\")\n",
    "#os.mkdir(\"Data-set/datos/03-Pyriform\")\n",
    "#os.mkdir(\"Data-set/datos/04-Small\")\n",
    "#os.mkdir(\"Data-set/datos/05-Amorphous\")\n",
    "\n",
    "#categorias = [\"01-Normal\", \"02-Tapered\", \"03-Pyriform\", \"04-Small\", \"05-Amorphous\"]\n",
    "\n",
    "#for x in file:\n",
    "#    # Se obtiene el nombre y clase desde el archivo txt\n",
    "#    aux1 = x.split('\t')\n",
    "#    clase = int(aux1[4].replace('\\n',''))\n",
    "#    array.append(clase)\n",
    "#    aux2 = aux1[0].replace('\\n','').split('-')\n",
    "#    p = aux2[0]\n",
    "#    pl = aux2[1]\n",
    "#    aux3 = aux2[2].split('/')\n",
    "#    n_sample = int(re.split('(\\d+)',aux3[0])[1])\n",
    "#    n_sperm = int(re.split('(\\d+)',aux3[1])[1])\n",
    "#    # Se conforma el directorio de la imagen a partir de la informacion anterior.\n",
    "#    file = 'Data-set/Partial-Agreement-Images/ch00_'+p+'-'+pl+'-sample'+str(n_sample)+'-sperm'+str(n_sperm)+'.tif'\n",
    "#    # Se conforma el directorio donde se va a copiar la imagen\n",
    "#    dest_dir = 'Data-set/data/'\n",
    "#    if (clase == 0):\n",
    "#        dest_dir=dest_dir+'01-Normal'\n",
    "#    elif (clase == 1):\n",
    "#        dest_dir=dest_dir+'02-Tapered'\n",
    "#    elif (clase == 2):\n",
    "#        dest_dir=dest_dir+'03-Pyriform'\n",
    "#    elif (clase == 3):\n",
    "#        dest_dir=dest_dir+'04-Small'\n",
    "#    else:\n",
    "#        dest_dir=dest_dir+'05-Amorphous'\n",
    "#    \n",
    "#    # Se copia la imagen\n",
    "#    shutil.copy(file,dest_dir)"
   ]
  },
  {
   "cell_type": "code",
   "execution_count": 7,
   "id": "3b3c1252",
   "metadata": {},
   "outputs": [],
   "source": [
    "def leerClases( dir ):\n",
    "    file = open(dir, \"r\")\n",
    "    clases = []\n",
    "    for x in file:\n",
    "        # Se obtiene el nombre y clase desde el archivo txt\n",
    "        aux1 = x.split('\t')\n",
    "        clase = int(aux1[4].replace('\\n',''))\n",
    "        clases.append(clase) \n",
    "    return clases\n"
   ]
  },
  {
   "cell_type": "code",
   "execution_count": 125,
   "id": "ca258fa3",
   "metadata": {},
   "outputs": [
    {
     "name": "stdout",
     "output_type": "stream",
     "text": [
      "Clase 0: 100\n",
      "Clase 1: 228\n",
      "Clase 2: 76\n",
      "Clase 3: 72\n",
      "Clase 4: 656\n",
      "\n"
     ]
    }
   ],
   "source": [
    "# BLOQUE 2: Crear data-set balanceado\n",
    "\n",
    "# Se aplica la estrategia: Random subsampling en clase mayoritaria AMORFO\n",
    "\n",
    "clases = leerClases(\"Data-set/PA-expert-annotations.txt\")\n",
    "print(\"Clase 0: \"+str(clases.count(0))+\"\\n\"+\"Clase 1: \"+str(clases.count(1))+\n",
    "      \"\\n\"+\"Clase 2: \"+str(clases.count(2))+\"\\n\"+\"Clase 3: \"+str(clases.count(3))+\n",
    "      \"\\n\"+\"Clase 4: \"+str(clases.count(5))+\"\\n\")\n",
    "\n",
    "# Se obtiene promedio entre las clases minotarias ( Clase 0, 1, 2 y 3)\n",
    "promedio = (clases.count(0)+clases.count(1)+clases.count(2)+clases.count(3))/4\n",
    "\n",
    "\n",
    "lista = os.listdir('Data-set/b_data/05-Amorphous')\n",
    "\n",
    "# Se eliminan aleatoriamentes elementos de la clase mayoritaria hasta llegar al promedio.\n",
    "while len(lista) > promedio:\n",
    "    elemento = random.choice(lista)\n",
    "    lista.remove(elemento)\n",
    "    elemento = 'Data-set/b_data/05-Amorphous/'+elemento\n",
    "    os.remove( elemento )\n"
   ]
  },
  {
   "cell_type": "code",
   "execution_count": 5,
   "id": "3256b2b7",
   "metadata": {},
   "outputs": [],
   "source": [
    "# Dividir Data-set original y balanceado.\n",
    "\n",
    "def crearSubConjuntos( nombre_clase, dir_clase, dest_dir):\n",
    "    os.mkdir(dest_dir+\"/train/\"+nombre_clase)\n",
    "    os.mkdir(dest_dir+\"/test/\"+nombre_clase)\n",
    "    os.mkdir(dest_dir+\"/valid/\"+nombre_clase)\n",
    "    \n",
    "    lista = os.listdir(dir_clase)\n",
    "    contador = 0\n",
    "    while (len(lista)*0.1) > contador:\n",
    "        elemento = random.choice(lista)\n",
    "        lista.remove(elemento)\n",
    "        elemento = dir_clase+'/'+elemento\n",
    "        shutil.copy(elemento,dest_dir+\"/test/\"+nombre_clase)\n",
    "        contador = contador+1\n",
    "\n",
    "    contador = 0\n",
    "    while (len(lista)*0.2) > contador:\n",
    "        elemento = random.choice(lista)\n",
    "        lista.remove(elemento)\n",
    "        elemento = dir_clase+'/'+elemento\n",
    "        shutil.copy(elemento,dest_dir+\"/valid/\"+nombre_clase)\n",
    "        contador = contador+1\n",
    "\n",
    "    while len(lista) > 0:\n",
    "        elemento = random.choice(lista)\n",
    "        lista.remove(elemento)\n",
    "        elemento = dir_clase+'/'+elemento\n",
    "        shutil.copy(elemento,dest_dir+\"/train/\"+nombre_clase)\n",
    "        contador = contador+1\n",
    "\n",
    "def crearConjuntos( root_dir, dest_dir ):\n",
    "    os.mkdir(dest_dir+\"/train\")\n",
    "    os.mkdir(dest_dir+\"/test\")\n",
    "    os.mkdir(dest_dir+\"/valid\")\n",
    "    crearSubConjuntos( '01-Normal', root_dir+'/01-Normal', dest_dir )\n",
    "    crearSubConjuntos( '02-Tapered', root_dir+'/02-Tapered', dest_dir )\n",
    "    crearSubConjuntos( '03-Pyriform', root_dir+'/03-Pyriform', dest_dir )\n",
    "    crearSubConjuntos( '04-Small', root_dir+'/04-Small', dest_dir )\n",
    "    crearSubConjuntos( '05-Amorphous', root_dir+'/05-Amorphous', dest_dir )\n",
    "\n"
   ]
  },
  {
   "cell_type": "code",
   "execution_count": null,
   "id": "c4a59795",
   "metadata": {},
   "outputs": [],
   "source": []
  }
 ],
 "metadata": {
  "kernelspec": {
   "display_name": "Python 3 (ipykernel)",
   "language": "python",
   "name": "python3"
  },
  "language_info": {
   "codemirror_mode": {
    "name": "ipython",
    "version": 3
   },
   "file_extension": ".py",
   "mimetype": "text/x-python",
   "name": "python",
   "nbconvert_exporter": "python",
   "pygments_lexer": "ipython3",
   "version": "3.7.13"
  }
 },
 "nbformat": 4,
 "nbformat_minor": 5
}
